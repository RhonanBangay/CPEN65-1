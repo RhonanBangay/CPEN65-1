{
  "nbformat": 4,
  "nbformat_minor": 0,
  "metadata": {
    "colab": {
      "provenance": [],
      "authorship_tag": "ABX9TyNKwAr6SY6BPHJD/HWQBEMT",
      "include_colab_link": true
    },
    "kernelspec": {
      "name": "python3",
      "display_name": "Python 3"
    },
    "language_info": {
      "name": "python"
    }
  },
  "cells": [
    {
      "cell_type": "markdown",
      "metadata": {
        "id": "view-in-github",
        "colab_type": "text"
      },
      "source": [
        "<a href=\"https://colab.research.google.com/github/RhonanBangay/CPEN65-1/blob/main/Stack_and_Queues.ipynb\" target=\"_parent\"><img src=\"https://colab.research.google.com/assets/colab-badge.svg\" alt=\"Open In Colab\"/></a>"
      ]
    },
    {
      "cell_type": "code",
      "execution_count": 8,
      "metadata": {
        "colab": {
          "base_uri": "https://localhost:8080/"
        },
        "id": "J0CzHQGFetwL",
        "outputId": "8c459002-5320-4ff2-9bbf-b307b0420c85"
      },
      "outputs": [
        {
          "output_type": "stream",
          "name": "stdout",
          "text": [
            "['A', 'B', 'C']\n",
            "['A']\n"
          ]
        }
      ],
      "source": [
        "class Stack:\n",
        "  def __init__ (self):\n",
        "    self.stack = []  ## stack implementation using OOP concepts\n",
        "\n",
        "  def push(self, dataval):\n",
        "    if dataval not in self.stack:\n",
        "      return self.stack.append(dataval)\n",
        "    \n",
        "    else:\n",
        "      return False\n",
        "\n",
        "  def pop(self):\n",
        "    if len(self.stack) <= 0:\n",
        "      return(\"No element in stack\")\n",
        "\n",
        "    else:\n",
        "      return self.stack.pop()\n",
        "\n",
        "Astack = Stack()\n",
        "Astack.push(\"A\")\n",
        "Astack.push(\"B\")\n",
        "Astack.push(\"C\")\n",
        "print(Astack.stack)\n",
        "Astack.pop()\n",
        "Astack.pop()\n",
        "print(Astack.stack)"
      ]
    },
    {
      "cell_type": "code",
      "source": [
        "#Application 1\n",
        "# Implement the a above progam by Queues Data Structure (enqueue nad denqueue/FIFO principles)\n",
        "class Queue:\n",
        "  def __init__ (self):\n",
        "    self.queue = []  ## queues implementation using OOP concepts\n",
        "\n",
        "  def enqueue(self, data):\n",
        "    self.queue.append(data)\n",
        "\n",
        "  def denqueue(self):\n",
        "    if len(self.queue) < 1:\n",
        "      return None\n",
        "    return self.queue.pop(0)\n",
        "\n",
        "\n",
        "Aqueue = Queue()\n",
        "Aqueue.enqueue(\"A\")\n",
        "Aqueue.enqueue(\"B\")\n",
        "Aqueue.enqueue(\"C\")\n",
        "print(Aqueue.queue)\n",
        "Aqueue.denqueue()\n",
        "print(Aqueue.queue)"
      ],
      "metadata": {
        "colab": {
          "base_uri": "https://localhost:8080/"
        },
        "id": "jInnCBnKiIRU",
        "outputId": "b111cdf9-4ba7-4c20-dc07-192af48cf649"
      },
      "execution_count": 32,
      "outputs": [
        {
          "output_type": "stream",
          "name": "stdout",
          "text": [
            "['A', 'B', 'C']\n",
            "['B', 'C']\n"
          ]
        }
      ]
    }
  ]
}