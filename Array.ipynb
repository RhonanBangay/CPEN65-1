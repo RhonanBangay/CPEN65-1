{
  "nbformat": 4,
  "nbformat_minor": 0,
  "metadata": {
    "colab": {
      "provenance": [],
      "collapsed_sections": [],
      "authorship_tag": "ABX9TyNFS9NlGfVQhqJ50u3G6PPb",
      "include_colab_link": true
    },
    "kernelspec": {
      "name": "python3",
      "display_name": "Python 3"
    },
    "language_info": {
      "name": "python"
    }
  },
  "cells": [
    {
      "cell_type": "markdown",
      "metadata": {
        "id": "view-in-github",
        "colab_type": "text"
      },
      "source": [
        "<a href=\"https://colab.research.google.com/github/RhonanBangay/CPEN65-1/blob/main/Array.ipynb\" target=\"_parent\"><img src=\"https://colab.research.google.com/assets/colab-badge.svg\" alt=\"Open In Colab\"/></a>"
      ]
    },
    {
      "cell_type": "code",
      "source": [
        "animals=[\"cat\",\"dog\",\"fish\"]\n",
        "x=animals[0]\n",
        "y=animals[1]\n",
        "z=animals[2]\n",
        "print(x)\n",
        "print(y)\n",
        "print(z)"
      ],
      "metadata": {
        "colab": {
          "base_uri": "https://localhost:8080/"
        },
        "id": "MAiReIZuTeHv",
        "outputId": "b2f7a242-c49f-47f5-a304-5e6cd7e4922a"
      },
      "execution_count": 6,
      "outputs": [
        {
          "output_type": "stream",
          "name": "stdout",
          "text": [
            "cat\n",
            "dog\n",
            "fish\n"
          ]
        }
      ]
    },
    {
      "cell_type": "code",
      "source": [
        "\n",
        "animals=[\"cat\",\"dog\",\"fish\"]\n",
        "animals[0]=\"monkey\"\n",
        "x=animals[0]\n",
        "print(x)\n",
        "print(animals)"
      ],
      "metadata": {
        "colab": {
          "base_uri": "https://localhost:8080/"
        },
        "id": "Mwm16_LkVkgY",
        "outputId": "5dbda57f-6304-4167-bd26-1d7e4f820b6c"
      },
      "execution_count": 7,
      "outputs": [
        {
          "output_type": "stream",
          "name": "stdout",
          "text": [
            "monkey\n",
            "['monkey', 'dog', 'fish']\n"
          ]
        }
      ]
    },
    {
      "cell_type": "code",
      "source": [
        "animals=[\"monkey\",\"dog\",\"fish\",\"cat\",\"birds\"]\n",
        "v=len(animals)\n",
        "print(v)"
      ],
      "metadata": {
        "colab": {
          "base_uri": "https://localhost:8080/"
        },
        "id": "Vpp6OOzLVoh5",
        "outputId": "0753eef5-eb8d-4ea1-fb4a-205e8024bb35"
      },
      "execution_count": 8,
      "outputs": [
        {
          "output_type": "stream",
          "name": "stdout",
          "text": [
            "5\n"
          ]
        }
      ]
    },
    {
      "cell_type": "code",
      "source": [
        "animals=[\"monkey\",\"dog\",\"fish\",\"cat\",\"birds\"]\n",
        "for index, val in enumerate(animals):\n",
        "  print(index,val)"
      ],
      "metadata": {
        "colab": {
          "base_uri": "https://localhost:8080/"
        },
        "id": "TFGw1528VqZQ",
        "outputId": "5d8657ee-1b91-4bd0-f36c-047c1bb0a946"
      },
      "execution_count": 9,
      "outputs": [
        {
          "output_type": "stream",
          "name": "stdout",
          "text": [
            "0 monkey\n",
            "1 dog\n",
            "2 fish\n",
            "3 cat\n",
            "4 birds\n"
          ]
        }
      ]
    },
    {
      "cell_type": "code",
      "source": [
        "animals=[\"monkey\",\"dog\",\"fish\",\"cat\",\"birds\"]\n",
        "animals.append(\"lion\")\n",
        "print(animals)"
      ],
      "metadata": {
        "colab": {
          "base_uri": "https://localhost:8080/"
        },
        "id": "rDMfUDHCZgZB",
        "outputId": "c4ab195b-4629-4275-be22-dc224b2a290d"
      },
      "execution_count": 10,
      "outputs": [
        {
          "output_type": "stream",
          "name": "stdout",
          "text": [
            "['monkey', 'dog', 'fish', 'cat', 'birds', 'lion']\n"
          ]
        }
      ]
    },
    {
      "cell_type": "code",
      "execution_count": 38,
      "metadata": {
        "colab": {
          "base_uri": "https://localhost:8080/"
        },
        "id": "9bH0hZWA7w2O",
        "outputId": "59f8ce21-6c4b-435d-cef7-9a9d818bfc95"
      },
      "outputs": [
        {
          "output_type": "stream",
          "name": "stdout",
          "text": [
            "0 monkey\n",
            "0 cat\n",
            "0 dog\n",
            "0 fish\n",
            "1 monkey\n",
            "1 cat\n",
            "1 dog\n",
            "1 fish\n",
            "2 monkey\n",
            "2 cat\n",
            "2 dog\n",
            "2 fish\n",
            "3 monkey\n",
            "3 cat\n",
            "3 dog\n",
            "3 fish\n"
          ]
        }
      ],
      "source": [
        "animals = [\"monkey\",\"cat\", \"dog\", \"fish\"]\n",
        "array = [\"0\",\"1\",\"2\",\"3\"]\n",
        "\n",
        "for s in array:\n",
        "  for x in animals:\n",
        "        if len(animals) >1:\n",
        "          print(s,x)\n",
        "        #print(s)\n",
        "\n",
        " \n",
        "\n"
      ]
    },
    {
      "cell_type": "code",
      "source": [
        "numbers=[1,2,3,4,5,6,7,8,9,10]\n",
        "numbers.insert(1,11)\n",
        "print(numbers)"
      ],
      "metadata": {
        "colab": {
          "base_uri": "https://localhost:8080/"
        },
        "id": "zsWX8_FrV3Ch",
        "outputId": "d0572e27-02ee-4ac0-b74a-0cd88c7d64ce"
      },
      "execution_count": 11,
      "outputs": [
        {
          "output_type": "stream",
          "name": "stdout",
          "text": [
            "[1, 11, 2, 3, 4, 5, 6, 7, 8, 9, 10]\n"
          ]
        }
      ]
    }
  ]
}