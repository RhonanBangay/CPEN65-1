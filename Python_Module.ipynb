{
  "nbformat": 4,
  "nbformat_minor": 0,
  "metadata": {
    "colab": {
      "provenance": [],
      "authorship_tag": "ABX9TyMI5eacxM0sTRP9YUWaGZMj",
      "include_colab_link": true
    },
    "kernelspec": {
      "name": "python3",
      "display_name": "Python 3"
    },
    "language_info": {
      "name": "python"
    }
  },
  "cells": [
    {
      "cell_type": "markdown",
      "metadata": {
        "id": "view-in-github",
        "colab_type": "text"
      },
      "source": [
        "<a href=\"https://colab.research.google.com/github/RhonanBangay/CPEN65-1/blob/main/Python_Module.ipynb\" target=\"_parent\"><img src=\"https://colab.research.google.com/assets/colab-badge.svg\" alt=\"Open In Colab\"/></a>"
      ]
    },
    {
      "cell_type": "markdown",
      "source": [
        "Array in Python"
      ],
      "metadata": {
        "id": "t4tqFD_SZ5Km"
      }
    },
    {
      "cell_type": "code",
      "execution_count": 1,
      "metadata": {
        "colab": {
          "base_uri": "https://localhost:8080/"
        },
        "id": "c722uQonZdq1",
        "outputId": "fe7995de-e9be-4205-e9ba-57b815d2bee3"
      },
      "outputs": [
        {
          "output_type": "stream",
          "name": "stdout",
          "text": [
            "i\n",
            "f\n"
          ]
        }
      ],
      "source": [
        "#getting type codes\n",
        "import array as arr\n",
        "arr.typecodes\n",
        "a = arr.array('i',[1,2,3,4,5])\n",
        "print(a.typecode)\n",
        "b = arr.array('f',[1.5,2.5,3.5,4.5,5.5])\n",
        "print(b.typecode)"
      ]
    },
    {
      "cell_type": "code",
      "source": [
        "#What are the output of these codes?\n",
        "import array as arr\n",
        "a = arr.array('i',[4,5,6,7])\n",
        "print(a)\n",
        "\n",
        "c = a.insert(1,2)\n",
        "print(a)\n",
        "a.insert(-1,0)\n",
        "print(a)\n",
        "a.insert(6,8)\n",
        "print(a)\n",
        "a.insert(10,-1)\n",
        "a"
      ],
      "metadata": {
        "colab": {
          "base_uri": "https://localhost:8080/"
        },
        "id": "VjcDJ44FZo5f",
        "outputId": "4c875277-48c6-48b8-b038-4054909969bb"
      },
      "execution_count": 2,
      "outputs": [
        {
          "output_type": "stream",
          "name": "stdout",
          "text": [
            "array('i', [4, 5, 6, 7])\n",
            "array('i', [4, 2, 5, 6, 7])\n",
            "array('i', [4, 2, 5, 6, 0, 7])\n",
            "array('i', [4, 2, 5, 6, 0, 7, 8])\n"
          ]
        },
        {
          "output_type": "execute_result",
          "data": {
            "text/plain": [
              "array('i', [4, 2, 5, 6, 0, 7, 8, -1])"
            ]
          },
          "metadata": {},
          "execution_count": 2
        }
      ]
    },
    {
      "cell_type": "code",
      "source": [
        "#Python program to create a singly lingked of vowel in English\n",
        "\n",
        "#Node Class\n",
        "\n",
        "class Node:\n",
        "  #function to initialize the node object\n",
        "  def __init__(self,data):\n",
        "    self.data = data #assign data\n",
        "    self.next = None #initialize as null/empty\n",
        "\n",
        "#Linked List that contains node object\n",
        "\n",
        "class LinkedList:\n",
        "  def __init__(self):\n",
        "    self.head = None\n",
        "  \n",
        "  def printlist(self):\n",
        "    temp = self.head\n",
        "    while(temp):\n",
        "      print(temp.data)\n",
        "      temp = temp.next\n",
        "\n",
        "#code execution starting from empty list\n",
        "llist = LinkedList()\n",
        "llist.head = Node(\"a\")\n",
        "second = Node(\"e\")\n",
        "third = Node(\"i\")\n",
        "fourth = Node(\"o\")\n",
        "fifth = Node(\"u\")\n",
        "\n",
        "llist.head.next = second\n",
        "second.next = third\n",
        "third.next = fourth\n",
        "fourth.next = fifth\n",
        "\n",
        "llist.printlist()"
      ],
      "metadata": {
        "colab": {
          "base_uri": "https://localhost:8080/"
        },
        "id": "lFgqDMJhZtYb",
        "outputId": "9aeb540f-831f-4743-92ad-bfa576441f75"
      },
      "execution_count": 3,
      "outputs": [
        {
          "output_type": "stream",
          "name": "stdout",
          "text": [
            "a\n",
            "e\n",
            "i\n",
            "o\n",
            "u\n"
          ]
        }
      ]
    }
  ]
}