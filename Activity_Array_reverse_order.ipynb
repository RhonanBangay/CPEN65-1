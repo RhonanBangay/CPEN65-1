{
  "nbformat": 4,
  "nbformat_minor": 0,
  "metadata": {
    "colab": {
      "provenance": [],
      "authorship_tag": "ABX9TyOnSDazjMdGE6bC7cbApGON",
      "include_colab_link": true
    },
    "kernelspec": {
      "name": "python3",
      "display_name": "Python 3"
    },
    "language_info": {
      "name": "python"
    }
  },
  "cells": [
    {
      "cell_type": "markdown",
      "metadata": {
        "id": "view-in-github",
        "colab_type": "text"
      },
      "source": [
        "<a href=\"https://colab.research.google.com/github/RhonanBangay/CPEN65-1/blob/main/Activity_Array_reverse_order.ipynb\" target=\"_parent\"><img src=\"https://colab.research.google.com/assets/colab-badge.svg\" alt=\"Open In Colab\"/></a>"
      ]
    },
    {
      "cell_type": "code",
      "execution_count": 7,
      "metadata": {
        "colab": {
          "base_uri": "https://localhost:8080/"
        },
        "id": "UEF-6aIfa4bR",
        "outputId": "a581e498-ceb9-4ec6-a442-a8c374b14da0"
      },
      "outputs": [
        {
          "output_type": "stream",
          "name": "stdout",
          "text": [
            "['Y', 'A', 'G', 'N', 'A', 'B', 'D.', 'D', 'N', 'O', 'M', 'H', 'C', 'I', 'R', 'N', 'A', 'N', 'O', 'H', 'R']\n"
          ]
        }
      ],
      "source": [
        "#Create a python program that use Array\n",
        "#Insert each character of your full name and displays each character of your full name in reverse order\n",
        "\n",
        "array_name = [\"R\",\"H\",\"O\",\"N\",\"A\",\"N\",\"R\",\"I\",\"C\",\"H\",\"M\",\"O\",\"N\",\"D\", \"D.\" ,\"B\",\"A\",\"N\",\"G\",\"A\",\"Y\"]\n",
        "array_name.reverse()\n",
        "print(array_name)"
      ]
    }
  ]
}