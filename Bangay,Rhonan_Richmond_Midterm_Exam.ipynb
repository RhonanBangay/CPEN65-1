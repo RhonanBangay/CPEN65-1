{
  "nbformat": 4,
  "nbformat_minor": 0,
  "metadata": {
    "colab": {
      "provenance": [],
      "authorship_tag": "ABX9TyPEfBVEEuiio28u81eMJ4d3",
      "include_colab_link": true
    },
    "kernelspec": {
      "name": "python3",
      "display_name": "Python 3"
    },
    "language_info": {
      "name": "python"
    }
  },
  "cells": [
    {
      "cell_type": "markdown",
      "metadata": {
        "id": "view-in-github",
        "colab_type": "text"
      },
      "source": [
        "<a href=\"https://colab.research.google.com/github/RhonanBangay/CPEN65-1/blob/main/Bangay%2CRhonan_Richmond_Midterm_Exam.ipynb\" target=\"_parent\"><img src=\"https://colab.research.google.com/assets/colab-badge.svg\" alt=\"Open In Colab\"/></a>"
      ]
    },
    {
      "cell_type": "markdown",
      "source": [
        "MIDTERM EXAM"
      ],
      "metadata": {
        "id": "NPz_KksdHc_V"
      }
    },
    {
      "cell_type": "markdown",
      "source": [
        "1. Write a Python program to create an array of 10 integers and display the array items. Access individual elements through indexes and compute for the sum."
      ],
      "metadata": {
        "id": "yK0b2OtsHYjV"
      }
    },
    {
      "cell_type": "code",
      "execution_count": 13,
      "metadata": {
        "colab": {
          "base_uri": "https://localhost:8080/"
        },
        "id": "ymz9lO9qGfWr",
        "outputId": "44f641fd-8814-44b2-eed0-3c89b9b94166"
      },
      "outputs": [
        {
          "output_type": "stream",
          "name": "stdout",
          "text": [
            "Enter a list of 10 integers: 1 2 3 4 5 6 7 8 9 10\n",
            "list of an array:  ['1', '2', '3', '4', '5', '6', '7', '8', '9', '10']\n",
            "Array [0] 1\n",
            "Array [1] 2\n",
            "Array [2] 3\n",
            "Array [3] 4\n",
            "Array [4] 5\n",
            "Array [5] 6\n",
            "Array [6] 7\n",
            "Array [7] 8\n",
            "Array [8] 9\n",
            "Array [9] 10\n",
            "Sum of all the elements of an array: 55\n"
          ]
        }
      ],
      "source": [
        "#1\n",
        "sum = 0\n",
        "num = input(\"Enter a list of 10 integers: \")\n",
        "num_list = num.split()\n",
        "#num_list.append(num)\n",
        "print(\"list of an array: \", num_list)\n",
        "for index, val in enumerate(num_list):\n",
        "  print(\"Array\",[index],val)\n",
        "\n",
        "#sum of list array\n",
        "for i in range(0, len(num_list)):    \n",
        "   sum = sum + int(num_list[i]);    \n",
        "     \n",
        "print(\"Sum of all the elements of an array: \" + str(sum))\n"
      ]
    },
    {
      "cell_type": "markdown",
      "source": [
        "2. Write a Python program to append a new item to the end of the array. Original array: numbers = [1, 2, 3, 4, 5, 6, 7, 8, 9, 10]\n"
      ],
      "metadata": {
        "id": "aVZcqJ6lHngz"
      }
    },
    {
      "cell_type": "code",
      "source": [
        "#2 \n",
        "import array as arr\n",
        "\n",
        "numbers = arr.array('i', [1,2,3,4,5,6,7,8,9,10])\n",
        "print(\"Original Array: \",numbers)\n",
        "numbers.append(11)\n",
        "print(\"\\nNew array: \", numbers)"
      ],
      "metadata": {
        "colab": {
          "base_uri": "https://localhost:8080/"
        },
        "id": "8bLB9AXaHnDn",
        "outputId": "e5746771-a12e-425f-dd12-318679acea21"
      },
      "execution_count": 14,
      "outputs": [
        {
          "output_type": "stream",
          "name": "stdout",
          "text": [
            "Original Array:  array('i', [1, 2, 3, 4, 5, 6, 7, 8, 9, 10])\n",
            "\n",
            "New array:  array('i', [1, 2, 3, 4, 5, 6, 7, 8, 9, 10, 11])\n"
          ]
        }
      ]
    },
    {
      "cell_type": "code",
      "source": [
        "#3\n",
        "import array as arr\n",
        "numbers = arr.array('i', [1,2,3,4,5,6,7,8,9,10])\n",
        "print(\"Original Array: \",numbers)\n",
        "numbers.insert(9,-10)\n",
        "print(\"\\nNew array: \", numbers)"
      ],
      "metadata": {
        "colab": {
          "base_uri": "https://localhost:8080/"
        },
        "id": "BZlu_BW2I5Yh",
        "outputId": "68ff1ab9-fcea-4298-ff6a-3dc44c756da1"
      },
      "execution_count": 18,
      "outputs": [
        {
          "output_type": "stream",
          "name": "stdout",
          "text": [
            "Original Array:  array('i', [1, 2, 3, 4, 5, 6, 7, 8, 9, 10])\n",
            "\n",
            "New array:  array('i', [1, 2, 3, 4, 5, 6, 7, 8, 9, -10, 10])\n"
          ]
        }
      ]
    },
    {
      "cell_type": "code",
      "source": [
        "#4\n",
        "numbers = [1,2,3,4,5]\n",
        "print(\"Original Array: \",numbers)\n",
        "numbers.reverse()\n",
        "print(\"\\nReverse order: \", numbers)"
      ],
      "metadata": {
        "colab": {
          "base_uri": "https://localhost:8080/"
        },
        "id": "NiRohIZ7JQD4",
        "outputId": "bbf3e1cb-00d6-4ba4-f5fd-4550f6170531"
      },
      "execution_count": 8,
      "outputs": [
        {
          "output_type": "stream",
          "name": "stdout",
          "text": [
            "Original Array:  [1, 2, 3, 4, 5]\n",
            "\n",
            "Reverse order:  [5, 4, 3, 2, 1]\n"
          ]
        }
      ]
    },
    {
      "cell_type": "markdown",
      "source": [
        "5.\n",
        "\n",
        "Algorithm:\n",
        "\n",
        "Step 1: Start\n",
        "\n",
        "Step 2: Declare and initialize an array\n",
        "\n",
        "Step 3: Use for loop statement to identify the repeted value. \n",
        "\n",
        "Step 4: It can found duplicate elements by declaring the outer loop to select an element in array.\n",
        "\n",
        "Step 5: Print A if the repated value is found and display the element.\n",
        "\n",
        "Step 6: Stop"
      ],
      "metadata": {
        "id": "h3jM6Q7MohMJ"
      }
    },
    {
      "cell_type": "code",
      "source": [
        "#5 Let A be an array of size n ≥ 2 containing integers from 1 to n−1, inclusive, with\n",
        "#exactly one repeated. Create an algorithm for finding the integer in A that is repeated.\n",
        "\n",
        "import array as arr\n",
        "\n",
        "num = arr.array('i', [1,2,3,4,4,5])\n",
        "num_list = []\n",
        "\n",
        "for A in num:\n",
        "  if A not in num_list:\n",
        "    num_list.append(A)\n",
        "\n",
        "  else:\n",
        "    print(\"Repeated element:\",A)"
      ],
      "metadata": {
        "colab": {
          "base_uri": "https://localhost:8080/"
        },
        "id": "8KouOsUqf5-0",
        "outputId": "a7382a2e-49ea-4a86-8e67-6ef4a9204c25"
      },
      "execution_count": 31,
      "outputs": [
        {
          "output_type": "stream",
          "name": "stdout",
          "text": [
            "Repeated element: 4\n"
          ]
        }
      ]
    }
  ]
}